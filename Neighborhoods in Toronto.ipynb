{
    "cells": [
        {
            "cell_type": "markdown",
            "metadata": {},
            "source": "### Import necessary libraries"
        },
        {
            "cell_type": "code",
            "execution_count": 82,
            "metadata": {},
            "outputs": [],
            "source": "import numpy as np\nimport pandas as pd \nimport json\nfrom geopy.geocoders import Nominatim\nimport requests \nfrom pandas.io.json import json_normalize \nimport matplotlib.cm as cm\nimport matplotlib.colors as colors\nfrom sklearn.cluster import KMeans\nimport folium \nfrom bs4 import BeautifulSoup\nfrom urllib.request import urlopen"
        },
        {
            "cell_type": "markdown",
            "metadata": {},
            "source": "### Scrape table from website"
        },
        {
            "cell_type": "code",
            "execution_count": 83,
            "metadata": {},
            "outputs": [],
            "source": "scrape_url = 'https://en.wikipedia.org/wiki/List_of_postal_codes_of_Canada:_M'\n\nsoup = BeautifulSoup(urlopen(scrape_url))\ntoronto_data = []\n\nfor tr in soup.find_all('table')[0].find_all('tr')[1:]:\n    tds = tr.find_all('td')\n    postal_code = tds[0].text\n    borough = tds[1].text\n    nhood = tds[2].text\n    if (borough != 'Not assigned\\n'):\n        if nhood == 'Not assigned\\n':\n            nhood = borough\n        toronto_data.append([postal_code, borough, nhood])"
        },
        {
            "cell_type": "markdown",
            "metadata": {},
            "source": "### Create dataframe and clean data"
        },
        {
            "cell_type": "code",
            "execution_count": 84,
            "metadata": {},
            "outputs": [],
            "source": "df_toronto = pd.DataFrame(toronto_data, columns=['PostalCode', 'Borough', 'Neighborhood'])\nfor col in df_toronto.columns:\n    df_toronto[col] = df_toronto[col].str.strip('\\n')\n"
        },
        {
            "cell_type": "code",
            "execution_count": 87,
            "metadata": {},
            "outputs": [
                {
                    "data": {
                        "text/plain": "(103, 3)"
                    },
                    "execution_count": 87,
                    "metadata": {},
                    "output_type": "execute_result"
                }
            ],
            "source": "df_toronto.shape"
        },
        {
            "cell_type": "code",
            "execution_count": null,
            "metadata": {},
            "outputs": [],
            "source": ""
        }
    ],
    "metadata": {
        "kernelspec": {
            "display_name": "Python 3.7",
            "language": "python",
            "name": "python3"
        },
        "language_info": {
            "codemirror_mode": {
                "name": "ipython",
                "version": 3
            },
            "file_extension": ".py",
            "mimetype": "text/x-python",
            "name": "python",
            "nbconvert_exporter": "python",
            "pygments_lexer": "ipython3",
            "version": "3.7.9"
        }
    },
    "nbformat": 4,
    "nbformat_minor": 1
}